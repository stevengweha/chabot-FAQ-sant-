{
 "cells": [
  {
   "cell_type": "code",
   "execution_count": 2,
   "id": "1006d2f6-04a4-42a8-94e4-d5279ba72b5f",
   "metadata": {},
   "outputs": [],
   "source": [
    "import joblib\n",
    "\n",
    "# Fonction pour charger le modèle\n",
    "def load_model():\n",
    "    return joblib.load('chatbot_model.pkl')\n",
    "\n",
    "# Vous pouvez ajouter d'autres fonctions utiles ici si nécessaire\n"
   ]
  },
  {
   "cell_type": "code",
   "execution_count": null,
   "id": "7599f82d-29c8-4336-b4f8-df455b8000a6",
   "metadata": {},
   "outputs": [],
   "source": []
  }
 ],
 "metadata": {
  "kernelspec": {
   "display_name": "Python 3 (ipykernel)",
   "language": "python",
   "name": "python3"
  },
  "language_info": {
   "codemirror_mode": {
    "name": "ipython",
    "version": 3
   },
   "file_extension": ".py",
   "mimetype": "text/x-python",
   "name": "python",
   "nbconvert_exporter": "python",
   "pygments_lexer": "ipython3",
   "version": "3.12.4"
  }
 },
 "nbformat": 4,
 "nbformat_minor": 5
}
